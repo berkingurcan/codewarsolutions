{
 "cells": [
  {
   "cell_type": "markdown",
   "metadata": {},
   "source": [
    "# My Codewars Solutions on Python 8-7-6-5 Kyu Problems\n",
    "### Also includes a little bit 7-8 Kyu C++, SQL and Haskell solutions"
   ]
  },
  {
   "cell_type": "markdown",
   "metadata": {},
   "source": [
    "#Find the missing letter\n",
    "\n",
    "Write a method that takes an array of consecutive (increasing) letters as input and that returns the missing letter in the array.\n",
    "\n",
    "You will always get an valid array. And it will be always exactly one letter be missing. The length of the array will always be at least 2.\n",
    "The array will always contain letters in only one case.\n",
    "\n",
    "Example:\n",
    "\n",
    "['a','b','c','d','f'] -> 'e' ['O','Q','R','S'] -> 'P'\n",
    "\n",
    "[\"a\",\"b\",\"c\",\"d\",\"f\"] -> \"e\"\n",
    "[\"O\",\"Q\",\"R\",\"S\"] -> \"P\"\n",
    "(Use the English alphabet with 26 letters!)\n",
    "\n",
    "Have fun coding it and please don't forget to vote and rank this kata! :-)\n",
    "\n",
    "I have also created other katas. Take a look if you enjoyed this kata!\n",
    "\n",
    "https://www.codewars.com/kata/5839edaa6754d6fec10000a2"
   ]
  },
  {
   "cell_type": "code",
   "execution_count": 5,
   "metadata": {},
   "outputs": [],
   "source": [
    "def find_missing_letter(chars):\n",
    "    alphas = ['a', 'b', 'c', 'd', 'e', 'f', 'g', 'h', 'i', 'j', 'k', 'l', 'm', 'n', 'o', 'p', 'q', 'r', 's', 't', 'u', 'v', 'w', 'x', 'y', 'z', 'A', 'B', 'C', 'D', 'E', 'F', 'G', 'H', 'I', 'J', 'K', 'L', 'M', 'N', 'O', 'P', 'Q', 'R', 'S', 'T', 'U', 'V', 'W', 'X', 'Y', 'Z']\n",
    "    \n",
    "    a = chars[0]\n",
    "    b = chars[-1]\n",
    "    listo = alphas[alphas.index(a):alphas.index(b)]\n",
    "    \n",
    "    return \"\".join(set(listo) - set(chars))"
   ]
  },
  {
   "cell_type": "markdown",
   "metadata": {},
   "source": [
    "Implement the function unique_in_order which takes as argument a sequence and returns a list of items without any elements with the same value next to each other and preserving the original order of elements.\n",
    "\n",
    "For example:\n",
    "\n",
    "uniqueInOrder('AAAABBBCCDAABBB') == ['A', 'B', 'C', 'D', 'A', 'B']\n",
    "uniqueInOrder('ABBCcAD')         == ['A', 'B', 'C', 'c', 'A', 'D']\n",
    "uniqueInOrder([1,2,2,3,3])       == [1,2,3]\n",
    "\n",
    "https://www.codewars.com/kata/54e6533c92449cc251001667"
   ]
  },
  {
   "cell_type": "code",
   "execution_count": 6,
   "metadata": {},
   "outputs": [],
   "source": [
    "def unique_in_order(iterable):\n",
    "    if len(iterable) > 0:\n",
    "        listt = [iterable[0]]\n",
    "        for i in range(1,len(iterable)):\n",
    "            if iterable[i-1] == iterable[i]:\n",
    "                pass\n",
    "            else:\n",
    "                listt.append(iterable[i])\n",
    "        return listt\n",
    "    else:\n",
    "        return []"
   ]
  },
  {
   "cell_type": "markdown",
   "metadata": {},
   "source": [
    "The goal of this exercise is to convert a string to a new string where each character in the new string is \"(\" if that character appears only once in the original string, or \")\" if that character appears more than once in the original string. Ignore capitalization when determining if a character is a duplicate.\n",
    "\n",
    "Examples\n",
    "\"din\"      =>  \"(((\"\n",
    "\"recede\"   =>  \"()()()\"\n",
    "\"Success\"  =>  \")())())\"\n",
    "\"(( @\"     =>  \"))((\" \n",
    "Notes\n",
    "\n",
    "Assertion messages may be unclear about what they display in some languages. If you read \"...It Should encode XXX\", the \"XXX\" is the expected result, not the input!\n",
    "\n",
    "https://www.codewars.com/kata/54b42f9314d9229fd6000d9c"
   ]
  },
  {
   "cell_type": "code",
   "execution_count": 7,
   "metadata": {},
   "outputs": [],
   "source": [
    "def duplicate_encode(word):\n",
    "    word = word.lower()\n",
    "    w = \"\"\n",
    "    for i in word:\n",
    "        if word.count(i) > 1:\n",
    "            w += \")\"\n",
    "        else:\n",
    "            w += \"(\"\n",
    "    return w"
   ]
  },
  {
   "cell_type": "markdown",
   "metadata": {},
   "source": [
    "Write a function that accepts an array of 10 integers (between 0 and 9), that returns a string of those numbers in the form of a phone number.\n",
    "\n",
    "Example:\n",
    "createPhoneNumber([1, 2, 3, 4, 5, 6, 7, 8, 9, 0]) // => returns \"(123) 456-7890\"\n",
    "The returned format must be correct in order to complete this challenge.\n",
    "Don't forget the space after the closing parentheses!\n",
    "\n",
    "https://www.codewars.com/kata/525f50e3b73515a6db000b83"
   ]
  },
  {
   "cell_type": "code",
   "execution_count": 8,
   "metadata": {},
   "outputs": [],
   "source": [
    "def create_phone_number(n):\n",
    "    no = \"(\"\n",
    "    for i in range(3):\n",
    "        no += str(n[i])\n",
    "    no = no + \") \"\n",
    "    for t in range(3,6):\n",
    "        no += str(n[t])\n",
    "    no = no + \"-\"\n",
    "    for u in range(6,10):\n",
    "        no += str(n[u])\n",
    "    return no"
   ]
  },
  {
   "cell_type": "markdown",
   "metadata": {},
   "source": [
    "You are given an odd-length array of integers, in which all of them are the same, except for one single number.\n",
    "\n",
    "Complete the method which accepts such an array, and returns that single different number.\n",
    "\n",
    "The input array will always be valid! (odd-length >= 3)\n",
    "\n",
    "Examples\n",
    "[1, 1, 2] ==> 2\n",
    "[17, 17, 3, 17, 17, 17, 17] ==> 3\n",
    "\n",
    "https://www.codewars.com/kata/57f609022f4d534f05000024"
   ]
  },
  {
   "cell_type": "markdown",
   "metadata": {},
   "source": [
    "HASKELL\n",
    "\n",
    "A hero is on his way to the castle to complete his mission. However, he's been told that the castle is surrounded with a couple of powerful dragons! each dragon takes 2 bullets to be defeated, our hero has no idea how many bullets he should carry.. Assuming he's gonna grab a specific given number of bullets and move forward to fight another specific given number of dragons, will he survive?\n",
    "\n",
    "Return True if yes, False otherwise :)"
   ]
  },
  {
   "cell_type": "code",
   "execution_count": 12,
   "metadata": {},
   "outputs": [],
   "source": [
    "\n",
    "# module Survive where\n",
    "\n",
    "# hero :: Int -> Int -> Bool\n",
    "# hero x y = if (x >= 2*y) then True else False"
   ]
  },
  {
   "cell_type": "markdown",
   "metadata": {},
   "source": [
    "C++ \n",
    "\n",
    "This kata is about multiplying a given number by eight if it is an even number and by nine otherwise."
   ]
  },
  {
   "cell_type": "code",
   "execution_count": 13,
   "metadata": {},
   "outputs": [],
   "source": [
    "# int simpleMultiplication(int a){\n",
    "#    if (a % 2 == 0) {\n",
    "#      return a*8;\n",
    "#      }\n",
    "#    else {\n",
    "#     return a*9;\n",
    "#    }\n",
    "# }"
   ]
  },
  {
   "cell_type": "markdown",
   "metadata": {},
   "source": [
    "Write a function that takes in a string of one or more words, and returns the same string, but with all five or more letter words reversed (Just like the name of this Kata). Strings passed in will consist of only letters and spaces. Spaces will be included only when more than one word is present.\n",
    "\n",
    "Examples:\n",
    "\n",
    "spinWords( \"Hey fellow warriors\" ) => returns \"Hey wollef sroirraw\"\n",
    "\n",
    "spinWords( \"This is a test\") => returns \"This is a test\"\n",
    "\n",
    "spinWords( \"This is another test\" )=> returns \"This is rehtona test\"\n",
    "\n",
    "https://www.codewars.com/kata/5264d2b162488dc400000001"
   ]
  },
  {
   "cell_type": "code",
   "execution_count": 14,
   "metadata": {},
   "outputs": [],
   "source": [
    "def spin_words(sentence):\n",
    "    x = sentence.split()\n",
    "    y = []\n",
    "    for i in x:\n",
    "        if len(i) > 4:\n",
    "            i = i[::-1]\n",
    "            y.append(i)\n",
    "        else:\n",
    "            y.append(i)\n",
    "    return \"\".join(t + \" \" for t in y).rstrip()"
   ]
  },
  {
   "cell_type": "markdown",
   "metadata": {},
   "source": [
    "The marketing team is spending way too much time typing in hashtags.\n",
    "Let's help them with our own Hashtag Generator!\n",
    "\n",
    "Here's the deal:\n",
    "\n",
    "It must start with a hashtag (#).\n",
    "All words must have their first letter capitalized.\n",
    "If the final result is longer than 140 chars it must return false.\n",
    "If the input or the result is an empty string it must return false.\n",
    "Examples\n",
    "\" Hello there thanks for trying my Kata\"  =>  \"#HelloThereThanksForTryingMyKata\"\n",
    "\"    Hello     World   \"                  =>  \"#HelloWorld\"\n",
    "\"\"                                        =>  false\n",
    "\n",
    "https://www.codewars.com/kata/52449b062fb80683ec000024"
   ]
  },
  {
   "cell_type": "code",
   "execution_count": 15,
   "metadata": {},
   "outputs": [],
   "source": [
    "def generate_hashtag(s):\n",
    "    s = s.split()\n",
    "    y = []\n",
    "    for i in s:\n",
    "        y.append(i.capitalize())\n",
    "    x = '#'\n",
    "    for t in y:\n",
    "        x += t\n",
    "    if len(x) > 140:\n",
    "        return False\n",
    "    if len(x) < 1:\n",
    "        return False\n",
    "    if x == \"#\":\n",
    "        return False\n",
    "    else:\n",
    "        return x"
   ]
  },
  {
   "cell_type": "markdown",
   "metadata": {},
   "source": [
    "You probably know the \"like\" system from Facebook and other pages. People can \"like\" blog posts, pictures or other items. We want to create the text that should be displayed next to such an item.\n",
    "\n",
    "Implement a function likes :: [String] -> String, which must take in input array, containing the names of people who like an item. It must return the display text as shown in the examples:\n",
    "\n",
    "likes [] -- must be \"no one likes this\"\n",
    "likes [\"Peter\"] -- must be \"Peter likes this\"\n",
    "likes [\"Jacob\", \"Alex\"] -- must be \"Jacob and Alex like this\"\n",
    "likes [\"Max\", \"John\", \"Mark\"] -- must be \"Max, John and Mark like this\"\n",
    "likes [\"Alex\", \"Jacob\", \"Mark\", \"Max\"] -- must be \"Alex, Jacob and 2 others like this\"\n",
    "\n",
    "https://www.codewars.com/kata/5266876b8f4bf2da9b000362"
   ]
  },
  {
   "cell_type": "code",
   "execution_count": 16,
   "metadata": {},
   "outputs": [],
   "source": [
    "def likes(names):\n",
    "    if len(names) == 0:\n",
    "        return 'no one likes this'\n",
    "    elif len(names) == 1:\n",
    "        return f\"{names[0]} likes this\"\n",
    "    elif len(names) == 2:\n",
    "        return f\"{names[0]} and {names[1]} like this\"\n",
    "    elif len(names) == 3:\n",
    "        return f\"{names[0]}, {names[1]} and {names[2]} like this\"\n",
    "    elif len(names) >= 4:\n",
    "        return f\"{names[0]}, {names[1]} and {len(names)-2} others like this\""
   ]
  },
  {
   "cell_type": "markdown",
   "metadata": {},
   "source": [
    "https://www.codewars.com/kata/5526fc09a1bbd946250002dc\n",
    "    \n",
    "You are given an array (which will have a length of at least 3, but could be very large) containing integers. The array is either entirely comprised of odd integers or entirely comprised of even integers except for a single integer N. Write a method that takes the array as an argument and returns this \"outlier\" N.\n",
    "\n",
    "Examples\n",
    "[2, 4, 0, 100, 4, 11, 2602, 36]\n",
    "Should return: 11 (the only odd number)\n",
    "\n",
    "[160, 3, 1719, 19, 11, 13, -21]\n",
    "Should return: 160 (the only even number)"
   ]
  },
  {
   "cell_type": "code",
   "execution_count": 17,
   "metadata": {},
   "outputs": [],
   "source": [
    "def find_outlier(integers):\n",
    "    cift = []\n",
    "    tek = []\n",
    "    for i in integers:\n",
    "        if i % 2 == 0:\n",
    "            cift.append(i)\n",
    "        else:\n",
    "            tek.append(i)\n",
    "    if len(cift) == 1:\n",
    "        return cift[0]\n",
    "    else:\n",
    "        return tek[0]"
   ]
  },
  {
   "cell_type": "markdown",
   "metadata": {},
   "source": [
    "https://www.codewars.com/kata/54da5a58ea159efa38000836\n",
    "    \n",
    "Given an array of integers, find the one that appears an odd number of times.\n",
    "\n",
    "There will always be only one integer that appears an odd number of times."
   ]
  },
  {
   "cell_type": "code",
   "execution_count": 18,
   "metadata": {},
   "outputs": [],
   "source": [
    "def find_it(seq):\n",
    "    for i in seq:\n",
    "        if seq.count(i) % 2 == 1:\n",
    "            return i\n",
    "        else:\n",
    "            continue"
   ]
  },
  {
   "cell_type": "markdown",
   "metadata": {},
   "source": [
    "https://www.codewars.com/kata/55c1d030da313ed05100005d\n",
    "\n",
    "Now that we have a Block let's move on to something slightly more complex a Sphere.\n",
    "\n",
    "#Arguments for the constructor\n",
    "\n",
    "radius -> integer or float (do not round it)\n",
    "mass -> integer or float (do not round it)\n",
    "#Methods to be defined\n",
    "\n",
    "get_radius()       =>  radius of the Sphere (do not round it)\n",
    "get_mass()         =>  mass of the Sphere (do not round it)\n",
    "get_volume()       =>  volume of the Sphere (rounded to 5 place after the decimal)\n",
    "get_surface_area() =>  surface area of the Sphere (rounded to 5 place after the decimal)\n",
    "get_density()      =>  density of the Sphere (rounded to 5 place after the decimal)\n",
    "##Example\n",
    "\n",
    "ball = Sphere(2,50)\n",
    "ball.get_radius() ->       2\n",
    "ball.get_mass() ->         50\n",
    "ball.get_volume() ->       33.51032\n",
    "ball.get_surface_area() -> 50.26548\n",
    "ball.get_density() ->      1.49208"
   ]
  },
  {
   "cell_type": "code",
   "execution_count": 19,
   "metadata": {},
   "outputs": [],
   "source": [
    "import math \n",
    "import decimal\n",
    "class Sphere(object):\n",
    "    def __init__(self,radius,mass):\n",
    "        self.radius = radius\n",
    "        self.mass = mass\n",
    "    def get_radius(self):\n",
    "        return self.radius\n",
    "    def get_mass(self):\n",
    "        return self.mass\n",
    "    def get_volume(self):\n",
    "        return round(float(4/3 * (math.pi * (self.radius**3))),5)\n",
    "    def get_surface_area(self):\n",
    "        return round(float(4*(math.pi * (self.radius**2))),5)\n",
    "    def get_density(self):\n",
    "        return round(float(self.get_mass()/self.get_volume()),5)"
   ]
  },
  {
   "cell_type": "markdown",
   "metadata": {},
   "source": [
    "The following code was thought to be working properly, however when the code tries to access the age of the person instance it fails.\n",
    "\n",
    "person = Person.new('Yukihiro', 'Matsumoto', 47)\n",
    "puts person.full_name\n",
    "puts person.age\n",
    "For this exercise you need to fix the code so that it works correctly.\n",
    "\n",
    "https://www.codewars.com/kata/513f887e484edf3eb3000001"
   ]
  },
  {
   "cell_type": "code",
   "execution_count": 20,
   "metadata": {},
   "outputs": [],
   "source": [
    "class Person():\n",
    "\n",
    "    def __init__(self, first_name, last_name, age):\n",
    "        self.first_name = first_name\n",
    "        self.last_name = last_name\n",
    "        self.age = age\n",
    "        self.full_name = f\"{first_name} {last_name}\""
   ]
  },
  {
   "cell_type": "markdown",
   "metadata": {},
   "source": [
    "Write a function sum that accepts an unlimited number of integer arguments, and adds all of them together.\n",
    "\n",
    "The function should reject any arguments that are not integers, and sum the remaining integers.\n",
    "\n",
    "sum(1, 2, 3)   // -> 6\n",
    "sum(1, \"2\", 3) // -> 4\n",
    "\n",
    "https://www.codewars.com/kata/536c738e49aa8b663b000301"
   ]
  },
  {
   "cell_type": "code",
   "execution_count": 21,
   "metadata": {},
   "outputs": [],
   "source": [
    "def sum(*args):\n",
    "    x = 0\n",
    "    for i in args:\n",
    "        if type(i) == int:\n",
    "            x += i\n",
    "    return x"
   ]
  },
  {
   "cell_type": "markdown",
   "metadata": {},
   "source": [
    "https://www.codewars.com/kata/56cd44e1aa4ac7879200010b\n",
    "\n",
    "Is the string uppercase?\n",
    "Task\n",
    "Add the isUpperCase method to String to see whether the string is ALL CAPS. For example:\n",
    "\n",
    "\"c\".isUpperCase() == false\n",
    "\"C\".isUpperCase() == true\n",
    "\"hello I AM DONALD\".isUpperCase() == false\n",
    "\"HELLO I AM DONALD\".isUpperCase() == true\n",
    "\"ACSKLDFJSgSKLDFJSKLDFJ\".isUpperCase() == false\n",
    "\"ACSKLDFJSGSKLDFJSKLDFJ\".isUpperCase() == true\n",
    "In this Kata, a string is said to be in ALL CAPS whenever it does not contain any lowercase letter so any string containing no letters at all is trivially considered to be in ALL CAPS"
   ]
  },
  {
   "cell_type": "code",
   "execution_count": 22,
   "metadata": {},
   "outputs": [],
   "source": [
    "def is_uppercase(inp):\n",
    "    return inp.isupper()"
   ]
  },
  {
   "cell_type": "markdown",
   "metadata": {},
   "source": [
    "https://www.codewars.com/kata/547274e24481cfc469000416\n",
    "\n",
    "According to the creation myths of the Abrahamic religions, Adam and Eve were the first Humans to wander the Earth.\n",
    "\n",
    "You have to do God's job. The creation method must return an array of length 2 containing objects (representing Adam and Eve). The first object in the array should be an instance of the class Man. The second should be an instance of the class Woman. Both objects have to be subclasses of Human. Your job is to implement the Human, Man and Woman classes."
   ]
  },
  {
   "cell_type": "code",
   "execution_count": 23,
   "metadata": {},
   "outputs": [],
   "source": [
    "class Human():\n",
    "    pass\n",
    "\n",
    "class Man(Human):\n",
    "    pass\n",
    "\n",
    "class Woman(Human):\n",
    "    pass\n",
    "\n",
    "\n",
    "\n",
    "def God():\n",
    "    return [Man(),Woman()]"
   ]
  },
  {
   "cell_type": "markdown",
   "metadata": {},
   "source": [
    "https://www.codewars.com/kata/55a144eff5124e546400005a\n",
    "    \n",
    "Basic Classes, this kata is mainly aimed at the new JS ES6 Update introducing classes\n",
    "Task\n",
    "Your task is to complete this Class, the Person class has been created. You must fill in the Constructor method to accept a name as string and an age as number, complete the get Info property and getInfo method/Info getter which should return johns age is 34"
   ]
  },
  {
   "cell_type": "code",
   "execution_count": 24,
   "metadata": {},
   "outputs": [],
   "source": [
    "class Person:\n",
    "    def __init__(self,name,age):\n",
    "        self.info = f\"{name}s age is {age}\""
   ]
  },
  {
   "cell_type": "markdown",
   "metadata": {},
   "source": [
    "https://www.codewars.com/kata/55a14aa4817efe41c20000bc\n",
    "\n",
    "Classy Extensions, this kata is mainly aimed at the new JS ES6 Update introducing extends keyword. You will be preloaded with the Animal class, so you should only edit the Cat class.\n",
    "Task\n",
    "Your task is to complete the Cat class which Extends Animal and replace the speak method to return the cats name + meows. e.g. 'Mr Whiskers meows.'\n",
    "The name attribute is passed with this.name (JS), @name (Ruby) or self.name (Python)."
   ]
  },
  {
   "cell_type": "code",
   "execution_count": 26,
   "metadata": {},
   "outputs": [
    {
     "ename": "NameError",
     "evalue": "name 'Animal' is not defined",
     "output_type": "error",
     "traceback": [
      "\u001b[1;31m---------------------------------------------------------------------------\u001b[0m",
      "\u001b[1;31mNameError\u001b[0m                                 Traceback (most recent call last)",
      "\u001b[1;32m<ipython-input-26-eacae331bc5d>\u001b[0m in \u001b[0;36m<module>\u001b[1;34m\u001b[0m\n\u001b[1;32m----> 1\u001b[1;33m \u001b[1;32mclass\u001b[0m \u001b[0mCat\u001b[0m\u001b[1;33m(\u001b[0m\u001b[0mAnimal\u001b[0m\u001b[1;33m)\u001b[0m\u001b[1;33m:\u001b[0m\u001b[1;33m\u001b[0m\u001b[1;33m\u001b[0m\u001b[0m\n\u001b[0m\u001b[0;32m      2\u001b[0m     \u001b[1;32mdef\u001b[0m \u001b[0m__init__\u001b[0m\u001b[1;33m(\u001b[0m\u001b[0mself\u001b[0m\u001b[1;33m,\u001b[0m\u001b[0mname\u001b[0m\u001b[1;33m)\u001b[0m\u001b[1;33m:\u001b[0m\u001b[1;33m\u001b[0m\u001b[1;33m\u001b[0m\u001b[0m\n\u001b[0;32m      3\u001b[0m         \u001b[0mself\u001b[0m\u001b[1;33m.\u001b[0m\u001b[0mname\u001b[0m\u001b[1;33m=\u001b[0m\u001b[0mname\u001b[0m\u001b[1;33m\u001b[0m\u001b[1;33m\u001b[0m\u001b[0m\n\u001b[0;32m      4\u001b[0m     \u001b[1;32mdef\u001b[0m \u001b[0mspeak\u001b[0m\u001b[1;33m(\u001b[0m\u001b[0mself\u001b[0m\u001b[1;33m)\u001b[0m\u001b[1;33m:\u001b[0m\u001b[1;33m\u001b[0m\u001b[1;33m\u001b[0m\u001b[0m\n\u001b[0;32m      5\u001b[0m         \u001b[1;32mreturn\u001b[0m\u001b[1;33m(\u001b[0m\u001b[1;34mf'{self.name} meows.'\u001b[0m\u001b[1;33m)\u001b[0m\u001b[1;33m\u001b[0m\u001b[1;33m\u001b[0m\u001b[0m\n",
      "\u001b[1;31mNameError\u001b[0m: name 'Animal' is not defined"
     ]
    }
   ],
   "source": [
    "class Cat(Animal):\n",
    "    def __init__(self,name):\n",
    "        self.name=name\n",
    "    def speak(self):\n",
    "        return(f'{self.name} meows.')"
   ]
  },
  {
   "cell_type": "markdown",
   "metadata": {},
   "source": [
    "https://www.codewars.com/kata/53f0f358b9cb376eca001079\n",
    "    \n",
    "    Create a class Ball. Ball objects should accept one argument for \"ball type\" when instantiated.\n",
    "\n",
    "If no arguments are given, ball objects should instantiate with a \"ball type\" of \"regular.\"\n",
    "\n",
    "ball1 = new Ball();\n",
    "ball2 = new Ball(\"super\");\n",
    "\n",
    "ball1.ballType     //=> \"regular\"\n",
    "ball2.ballType     //=> \"super\""
   ]
  },
  {
   "cell_type": "code",
   "execution_count": 27,
   "metadata": {},
   "outputs": [],
   "source": [
    "class Ball(object):\n",
    "    def __init__(self, ball_type = \"regular\"):\n",
    "        self.ball_type = ball_type"
   ]
  },
  {
   "cell_type": "markdown",
   "metadata": {},
   "source": [
    "https://www.codewars.com/kata/55849d76acd73f6cc4000087\n",
    "\n",
    "Let's imagine we have a popular online RPG. A player begins with a score of 0 in class E5. A1 is the highest level a player can achieve.\n",
    "\n",
    "Now let's say the players wants to rank up to class E4. To do so the player needs to achieve at least 100 points to enter the qualifying stage.\n",
    "\n",
    "Write a script that will check to see if the player has achieved at least 100 points in his class. If so, he enters the qualifying stage.\n",
    "\n",
    "In that case, we return, \"Well done! You have advanced to the qualifying stage. Win 2 out of your next 3 games to rank up.\".\n",
    "\n",
    "Otherwise return, False/false (according to the language n use)."
   ]
  },
  {
   "cell_type": "code",
   "execution_count": 28,
   "metadata": {},
   "outputs": [],
   "source": [
    "def playerRankUp(pts):\n",
    "    if pts >= 100:\n",
    "        return \"Well done! You have advanced to the qualifying stage. Win 2 out of your next 3 games to rank up.\"\n",
    "    else:\n",
    "        return False"
   ]
  },
  {
   "cell_type": "markdown",
   "metadata": {},
   "source": [
    "https://www.codewars.com/kata/53f1015fa9fe02cbda00111a\n",
    "\n",
    "Create a class Ghost\n",
    "\n",
    "Ghost objects are instantiated without any arguments.\n",
    "\n",
    "Ghost objects are given a random color attribute of white\" or \"yellow\" or \"purple\" or \"red\" when instantiated"
   ]
  },
  {
   "cell_type": "code",
   "execution_count": 29,
   "metadata": {},
   "outputs": [],
   "source": [
    "import random\n",
    "class Ghost(object):\n",
    "    def __init__(self):\n",
    "        self.color = random.choice([\"white\",\"yellow\",\"purple\",\"red\"])"
   ]
  },
  {
   "cell_type": "markdown",
   "metadata": {},
   "source": [
    "\n",
    "https://www.codewars.com/kata/53cf459503f9bbb774000003\n",
    "\n",
    "Python is now supported on Codewars!\n",
    "\n",
    "For those of us who are not very familiar with Python, let's handle the very basic challenge of creating a class named Python. We want to give our Pythons a name, so it should take a name argument that we can retrieve later."
   ]
  },
  {
   "cell_type": "code",
   "execution_count": 30,
   "metadata": {},
   "outputs": [],
   "source": [
    "class Python:\n",
    "    def __init__(self,name):\n",
    "        self.name = name"
   ]
  },
  {
   "cell_type": "markdown",
   "metadata": {},
   "source": [
    "https://www.codewars.com/kata/54bf85e3d5b56c7a05000cf9\n",
    "Your team is writing a fancy new text editor and you've been tasked with implementing the line numbering.\n",
    "\n",
    "Write a function which takes a list of strings and returns each line prepended by the correct number.\n",
    "\n",
    "The numbering starts at 1. The format is n: string. Notice the colon and space in between.\n",
    "\n",
    "Examples:\n",
    "\n",
    "number([]) // => []\n",
    "number([\"a\", \"b\", \"c\"]) // => [\"1: a\", \"2: b\", \"3: c\"]"
   ]
  },
  {
   "cell_type": "code",
   "execution_count": 31,
   "metadata": {},
   "outputs": [],
   "source": [
    "def number(lines):\n",
    "    lines.insert(0, \"HEHE\")\n",
    "    list = []\n",
    "    for i,y in enumerate(lines):\n",
    "        list.append(str(i)+\": \"+y)\n",
    "    del list[0]\n",
    "    return list"
   ]
  },
  {
   "cell_type": "markdown",
   "metadata": {},
   "source": [
    "https://www.codewars.com/kata/5ebd53ea50d0680031190b96\n",
    "    \n",
    "    Your Task\n",
    "Complete the function to convert an integer into a string of the Turkish name.\n",
    "\n",
    "input will always be an integer 0-99;\n",
    "output should always be lower case.\n",
    "Background\n",
    "Forming the Turkish names for the numbers 0-99 is very straightforward:\n",
    "\n",
    "units (0-9) and tens (10, 20, 30, etc.) each have their own unique name;\n",
    "all other numbers are simply [tens] + [unit], like twenty one in English.\n",
    "Unlike English, Turkish does not have \"teen\"-suffixed numbers; e.g. 13 would be directly translated as \"ten three\" rather than \"thirteen\" in English.\n",
    "\n",
    "Turkish names of units and tens are as follows:\n",
    "\n",
    "0 = sıfır\n",
    "1 = bir\n",
    "2 = iki\n",
    "3 = üç\n",
    "4 = dört\n",
    "5 = beş\n",
    "6 = altı\n",
    "7 = yedi\n",
    "8 = sekiz\n",
    "9 = dokuz\n",
    "\n",
    "10 = on\n",
    "20 = yirmi\n",
    "30 = otuz\n",
    "40 = kırk\n",
    "50 = elli\n",
    "60 = altmış\n",
    "70 = yetmiş\n",
    "80 = seksen\n",
    "90 = doksan\n",
    "Examples"
   ]
  },
  {
   "cell_type": "code",
   "execution_count": 32,
   "metadata": {},
   "outputs": [],
   "source": [
    "def get_turkish_number(num):\n",
    "#selamlar :)))\n",
    "    birler = {1: \" bir\",\n",
    "            2: \" iki\",\n",
    "            3: \" üç\",\n",
    "            4:\" dört\",\n",
    "            5:\" beş\",\n",
    "            6:\" altı\",\n",
    "            7:\" yedi\",\n",
    "            8:\" sekiz\",\n",
    "            9:\" dokuz\",\n",
    "             0:\"\"}\n",
    "    onlar = {1:\"on\",\n",
    "            2:\"yirmi\",\n",
    "            3:\"otuz\",\n",
    "            4:\"kırk\",\n",
    "            5:\"elli\",\n",
    "            6:\"altmış\",\n",
    "            7:\"yetmiş\",\n",
    "            8:\"seksen\",\n",
    "            9:\"doksan\",\n",
    "            }\n",
    "    x = num // 10\n",
    "    y = num % 10\n",
    "    if num > 9:\n",
    "        return onlar[x]+birler[y]\n",
    "    if num == 0:\n",
    "        return \"sıfır\"\n",
    "    else:\n",
    "        return birler[num].replace(\" \",\"\")"
   ]
  },
  {
   "cell_type": "markdown",
   "metadata": {},
   "source": [
    "https://www.codewars.com/kata/5a2b703dc5e2845c0900005a\n",
    "    \n",
    "    Your task is to create functionisDivideBy (or is_divide_by) to check if an integer number is divisible by each out of two arguments.\n",
    "\n",
    "A few cases:\n",
    "\n",
    "\n",
    "(-12, 2, -6)  ->  true\n",
    "(-12, 2, -5)  ->  false\n",
    "\n",
    "(45, 1, 6)    ->  false\n",
    "(45, 5, 15)   ->  true\n",
    "\n",
    "(4, 1, 4)     ->  true\n",
    "(15, -5, 3)   ->  true"
   ]
  },
  {
   "cell_type": "code",
   "execution_count": 33,
   "metadata": {},
   "outputs": [],
   "source": [
    "def is_divide_by(number, a, b):\n",
    "    return True if number % a == 0 and number % b == 0 else False"
   ]
  },
  {
   "cell_type": "markdown",
   "metadata": {},
   "source": [
    "If we list all the natural numbers below 10 that are multiples of 3 or 5, we get 3, 5, 6 and 9. The sum of these multiples is 23.\n",
    "\n",
    "Finish the solution so that it returns the sum of all the multiples of 3 or 5 below the number passed in.\n",
    "\n",
    "Note: If the number is a multiple of both 3 and 5, only count it once. Also, if a number is negative, return 0(for languages that do have them"
   ]
  },
  {
   "cell_type": "code",
   "execution_count": 34,
   "metadata": {},
   "outputs": [],
   "source": [
    "def solution(number):\n",
    "    x = []\n",
    "    for i in range(number):\n",
    "        if i % 3 == 0 or i % 5 == 0:\n",
    "            x.append(i)\n",
    "    return sum(x)"
   ]
  },
  {
   "cell_type": "markdown",
   "metadata": {},
   "source": [
    "https://www.codewars.com/kata/5545f109004975ea66000086\n",
    "\n",
    "Create a function that checks if a number n is divisible by two numbers x AND y. All inputs are positive, non-zero digits.\n",
    "\n",
    "Examples:\n",
    "1) n =   3, x = 1, y = 3 =>  true because   3 is divisible by 1 and 3\n",
    "2) n =  12, x = 2, y = 6 =>  true because  12 is divisible by 2 and 6\n",
    "3) n = 100, x = 5, y = 3 => false because 100 is not divisible by 3\n",
    "4) n =  12, x = 7, y = 5 => false because  12 is neither divisible by 7 nor 5"
   ]
  },
  {
   "cell_type": "code",
   "execution_count": 35,
   "metadata": {},
   "outputs": [],
   "source": [
    "def is_divisible(n,x,y):\n",
    "    if n % x == 0 and n % y == 0:\n",
    "        return True\n",
    "    else:\n",
    "        return False"
   ]
  },
  {
   "cell_type": "markdown",
   "metadata": {},
   "source": [
    "Your task is to remove all duplicate words from a string, leaving only single (first) words entries.\n",
    "\n",
    "Example:\n",
    "\n",
    "Input:\n",
    "\n",
    "'alpha beta beta gamma gamma gamma delta alpha beta beta gamma gamma gamma delta'\n",
    "\n",
    "Output:\n",
    "\n",
    "'alpha beta gamma delta'\n",
    "\n",
    "https://www.codewars.com/kata/5b39e3772ae7545f650000fc"
   ]
  },
  {
   "cell_type": "code",
   "execution_count": 36,
   "metadata": {},
   "outputs": [],
   "source": [
    "def remove_duplicate_words(s):\n",
    "    x = []\n",
    "    u = s.split()\n",
    "    for i in u:\n",
    "        if i not in x:\n",
    "            x.append(i)\n",
    "    return \"\".join(t + \" \" for t in x).rstrip()"
   ]
  },
  {
   "cell_type": "markdown",
   "metadata": {},
   "source": [
    "https://www.codewars.com/kata/52fba66badcd10859f00097e\n",
    "\n",
    "Trolls are attacking your comment section!\n",
    "\n",
    "A common way to deal with this situation is to remove all of the vowels from the trolls' comments, neutralizing the threat.\n",
    "\n",
    "Your task is to write a function that takes a string and return a new string with all vowels removed.\n",
    "\n",
    "For example, the string \"This website is for losers LOL!\" would become \"Ths wbst s fr lsrs LL!\".\n",
    "\n",
    "Note: for this kata y isn't considered a vowel."
   ]
  },
  {
   "cell_type": "code",
   "execution_count": 37,
   "metadata": {},
   "outputs": [],
   "source": [
    "import re\n",
    "def disemvowel(string):\n",
    "    n = re.findall(\"[aeıioöuüAEIİOÖUÜ]\",string)\n",
    "    vv = []\n",
    "    for i in string:\n",
    "        if i not in n:\n",
    "            vv.append(i)\n",
    "    return \"\".join(i for i in vv)"
   ]
  },
  {
   "cell_type": "markdown",
   "metadata": {},
   "source": [
    "Normally we have firstname, middle and the last name but there may be more than one word in a name like a South Indian one.\n",
    "\n",
    "Similar to those kinda names we need to initialize the names.\n",
    "\n",
    "See the pattern below:\n",
    "\n",
    "initials('code wars') => returns C.Wars \n",
    "initials('Barack Hussain obama') => returns B.H.Obama \n",
    "\n",
    "\n",
    "https://www.codewars.com/kata/55968ab32cf633c3f8000008"
   ]
  },
  {
   "cell_type": "code",
   "execution_count": 40,
   "metadata": {},
   "outputs": [],
   "source": [
    "def initials(name):\n",
    "    x = name.title().split()\n",
    "    y = []\n",
    "    for i in x:\n",
    "        y.append(i[0]+\".\")\n",
    "    y[-1] = x[-1]\n",
    "    return \"\".join(i for i in y)"
   ]
  },
  {
   "cell_type": "markdown",
   "metadata": {},
   "source": [
    "Your task is simply to count the total number of lowercase letters in a string.\n",
    "https://www.codewars.com/kata/56a946cd7bd95ccab2000055"
   ]
  },
  {
   "cell_type": "code",
   "execution_count": 41,
   "metadata": {},
   "outputs": [],
   "source": [
    "import re\n",
    "def lowercase_count(strng):\n",
    "    return len(re.findall(\"[a-z]\",strng))"
   ]
  },
  {
   "cell_type": "markdown",
   "metadata": {},
   "source": [
    "https://www.codewars.com/kata/56a25ba95df27b7743000016\n",
    "    Basic regex tasks. Write a function that takes in a numeric code of any length. The function should check if the code begins with 1, 2, or 3 and return true if so. Return false otherwise.\n",
    "\n",
    "You can assume the input will always be a number."
   ]
  },
  {
   "cell_type": "code",
   "execution_count": 42,
   "metadata": {},
   "outputs": [],
   "source": [
    "import re\n",
    "def validate_code(code):\n",
    "    return bool(re.match(\"^1|2|3\",str(code)))"
   ]
  },
  {
   "cell_type": "markdown",
   "metadata": {},
   "source": [
    "https://www.codewars.com/kata/593c9175933500f33400003e\n",
    "\n",
    "\n",
    "Implement a function, multiples(m, n), which returns an array of the first m multiples of the real number n. Assume that m is a positive integer.\n",
    "\n",
    "Ex.\n",
    "\n",
    "multiples(3, 5.0)\n",
    "should return\n",
    "\n",
    "[5.0, 10.0, 15.0]"
   ]
  },
  {
   "cell_type": "code",
   "execution_count": 43,
   "metadata": {},
   "outputs": [],
   "source": [
    "def multiples(m, n):\n",
    "    x = []\n",
    "    for i in range(1,m+1):\n",
    "        x.append(n * i)\n",
    "    return x"
   ]
  },
  {
   "cell_type": "markdown",
   "metadata": {},
   "source": [
    "https://www.codewars.com/kata/5897cdc26551af891c000124\n",
    "\n",
    "Hofstadter sequences are a family of related integer sequences, among which the first ones were described by an American professor Douglas Hofstadter in his book Gödel, Escher, Bach.\n",
    "\n",
    "Task\n",
    "Today we will be implementing the rather chaotic recursive sequence of integers called Hofstadter Q.\n",
    "\n",
    "The Hofstadter Q is defined as:\n",
    "\n",
    "\n",
    "As the author states in the aforementioned book:\n",
    "\n",
    "\n",
    "It is reminiscent of the Fibonacci definition in that each new value is a sum of two previous values-but not of the immediately previous two values. Instead, the two immediately previous values tell how far to count back to obtain the numbers to be added to make the new value.\n",
    "The function produces the starting sequence:\n",
    "1, 1, 2, 3, 3, 4, 5, 5, 6 . . .\n",
    "Test info: 100 random tests, n is always positive"
   ]
  },
  {
   "cell_type": "code",
   "execution_count": 44,
   "metadata": {},
   "outputs": [],
   "source": [
    "x = []\n",
    "for i in range(10000):\n",
    "    x.append(0)\n",
    "x[0] = 1\n",
    "x[1] = 1\n",
    "x[2] = 1\n",
    "def hofstadter_Q(n):\n",
    "    if n == 1:\n",
    "        return 1\n",
    "    elif n == 2:\n",
    "        return 1\n",
    "    else:\n",
    "        if x[n] != 0:\n",
    "            return x[n]\n",
    "        if x[n] == 0:\n",
    "            x[n] = hofstadter_Q(n -  hofstadter_Q(n-1)) +  hofstadter_Q(n - hofstadter_Q(n-2))\n",
    "            return x[n]"
   ]
  },
  {
   "cell_type": "markdown",
   "metadata": {},
   "source": [
    "https://www.codewars.com/kata/579637b41ace7f92ae000282\n",
    "    \n",
    "    What is a Catalan number?\n",
    "In combinatorial mathematics, the Catalan numbers form a sequence of natural numbers that occur in various counting problems, often involving recursively-defined objects. They are named after the Belgian mathematician Eugène Charles Catalan (1814–1894).\n",
    "\n",
    "Using zero-based numbering, the nth Catalan number is given directly in terms of binomial coefficients by:\n",
    "\n",
    "\n",
    "You can read more on Catalan numbers Here.\n",
    "\n",
    "Task:\n",
    "Implement a function which calculates the Nth Catalan number.\n",
    "\n",
    "0  =>  1\n",
    "3  =>  5\n",
    "7  =>  429\n",
    "9  =>  4862\n",
    "Hint: avoid the use of floats\n",
    "\n",
    "Have fun :)"
   ]
  },
  {
   "cell_type": "code",
   "execution_count": 45,
   "metadata": {},
   "outputs": [],
   "source": [
    "import math\n",
    "def nth_catalan_number(n):\n",
    "    n = int(n)\n",
    "    if n == 0:\n",
    "        return 1\n",
    "    else:\n",
    "        x = ((math.factorial(2*int(n))) // (math.factorial(int(n))* (math.factorial(int(n))))) // (int(n+1))\n",
    "        return int(x)"
   ]
  },
  {
   "cell_type": "markdown",
   "metadata": {},
   "source": [
    "https://www.codewars.com/kata/59e19a747905df23cb000024\n",
    "    \n",
    "    \n",
    "    Take an input string and return a string that is made up of the number of occurences of each english letter in the input followed by that letter, sorted alphabetically. The output string shouldn't contain chars missing from input (chars with 0 occurence); leave them out.\n",
    "\n",
    "An empty string, or one with no letters, should return an empty string.\n",
    "\n",
    "Notes:\n",
    "\n",
    "the input will always be valid;\n",
    "treat letters as case-insensitive\n",
    "Examples\n",
    "\"This is a test sentence.\"  ==>  \"1a1c4e1h2i2n4s4t\"\n",
    "\"\"                          ==>  \"\"\n",
    "\"555\"                       ==>  \"\""
   ]
  },
  {
   "cell_type": "code",
   "execution_count": 46,
   "metadata": {},
   "outputs": [],
   "source": [
    "def string_letter_count(s):\n",
    "    a = []\n",
    "    for i in s.lower():\n",
    "        if i.isalpha():\n",
    "            a.append(i)\n",
    "    e = list(dict.fromkeys(a))\n",
    "    return \"\".join(str(a.count(t)) + t for t in sorted(e))"
   ]
  },
  {
   "cell_type": "markdown",
   "metadata": {},
   "source": [
    "https://www.codewars.com/kata/54bf1c2cd5b56cc47f0007a1\n",
    "\n",
    "Count the number of Duplicates\n",
    "Write a function that will return the count of distinct case-insensitive alphabetic characters and numeric digits that occur more than once in the input string. The input string can be assumed to contain only alphabets (both uppercase and lowercase) and numeric digits.\n",
    "\n",
    "Example\n",
    "\"abcde\" -> 0 # no characters repeats more than once\n",
    "\"aabbcde\" -> 2 # 'a' and 'b'\n",
    "\"aabBcde\" -> 2 # 'a' occurs twice and 'b' twice (`b` and `B`)\n",
    "\"indivisibility\" -> 1 # 'i' occurs six times\n",
    "\"Indivisibilities\" -> 2 # 'i' occurs seven times and 's' occurs twice\n",
    "\"aA11\" -> 2 # 'a' and '1'\n",
    "\"ABBA\" -> 2 # 'A' and 'B' each occur twice"
   ]
  },
  {
   "cell_type": "code",
   "execution_count": 47,
   "metadata": {},
   "outputs": [],
   "source": [
    "def duplicate_count(text):\n",
    "    x = []\n",
    "    t2 = text.lower()\n",
    "    for i in t2:\n",
    "        if t2.count(i) > 1:\n",
    "            x.append(i)\n",
    "    x = list(dict.fromkeys(x))\n",
    "    return len(x)"
   ]
  },
  {
   "cell_type": "markdown",
   "metadata": {},
   "source": [
    "https://www.codewars.com/kata/5259b20d6021e9e14c0010d4\n",
    "\n",
    "Complete the function that accepts a string parameter, and reverses each word in the string. All spaces in the string should be retained.\n",
    "\n",
    "Examples\n",
    "\"This is an example!\" ==> \"sihT si na !elpmaxe\"\n",
    "\"double  spaces\"      ==> \"elbuod  secaps\""
   ]
  },
  {
   "cell_type": "code",
   "execution_count": 48,
   "metadata": {},
   "outputs": [],
   "source": [
    "def reverse_words(text):\n",
    "    return \"\".join(i[::-1] + \" \" for i in text.split(\" \")).rstrip()"
   ]
  },
  {
   "cell_type": "markdown",
   "metadata": {},
   "source": [
    "https://www.codewars.com/kata/52a112d9488f506ae7000b95\n",
    "    \n",
    "    Write a function with the signature shown below:\n",
    "\n",
    "function isIntArray(arr) {\n",
    "  return true\n",
    "}\n",
    "returns true / True if every element in an array is an integer or a float with no decimals.\n",
    "returns true / True if array is empty.\n",
    "returns false / False for every other input."
   ]
  },
  {
   "cell_type": "code",
   "execution_count": 49,
   "metadata": {},
   "outputs": [],
   "source": [
    "def is_int_array(arr):\n",
    "    if arr is None:\n",
    "        return False\n",
    "    elif arr is \"\":\n",
    "        return False\n",
    "    else:\n",
    "        for i in arr:\n",
    "            if i == \"\":\n",
    "                return False\n",
    "            elif isinstance(i, int):\n",
    "                continue\n",
    "            elif type(i) is float and i % 1 == 0:\n",
    "                continue\n",
    "            else:\n",
    "                return False\n",
    "        return True"
   ]
  },
  {
   "cell_type": "markdown",
   "metadata": {},
   "source": [
    "https://www.codewars.com/kata/523f5d21c841566fde000009\n",
    "\n",
    "Your goal in this kata is to implement a difference function, which subtracts one list from another and returns the result.\n",
    "\n",
    "It should remove all values from list a, which are present in list b.\n",
    "\n",
    "arrayDiff([1,2],[1]) == [2]\n",
    "If a value is present in b, all of its occurrences must be removed from the other:\n",
    "\n",
    "arrayDiff([1,2,2,2,3],[2]) == [1,3]"
   ]
  },
  {
   "cell_type": "code",
   "execution_count": 50,
   "metadata": {},
   "outputs": [],
   "source": [
    "def array_diff(a, b):\n",
    "    x = []\n",
    "    for i in a:\n",
    "        if i not in b:\n",
    "            x.append(i)\n",
    "    return x"
   ]
  },
  {
   "cell_type": "markdown",
   "metadata": {},
   "source": [
    "https://www.codewars.com/kata/5270d0d18625160ada0000e4\n",
    "    \n",
    "    Greed is a dice game played with five six-sided dice. Your mission, should you choose to accept it, is to score a throw according to these rules. You will always be given an array with five six-sided dice values.\n",
    "\n",
    " Three 1's => 1000 points\n",
    " Three 6's =>  600 points\n",
    " Three 5's =>  500 points\n",
    " Three 4's =>  400 points\n",
    " Three 3's =>  300 points\n",
    " Three 2's =>  200 points\n",
    " One   1   =>  100 points\n",
    " One   5   =>   50 point\n",
    "A single die can only be counted once in each roll. For example, a given \"5\" can only count as part of a triplet (contributing to the 500 points) or as a single 50 points, but not both in the same roll.\n",
    "\n",
    "Example scoring\n",
    "\n",
    " Throw       Score\n",
    " ---------   ------------------\n",
    " 5 1 3 4 1   250:  50 (for the 5) + 2 * 100 (for the 1s)\n",
    " 1 1 1 3 1   1100: 1000 (for three 1s) + 100 (for the other 1)\n",
    " 2 4 4 5 4   450:  400 (for three 4s) + 50 (for the 5)\n",
    "In some languages, it is possible to mutate the input to the function. This is something that you should never do. If you mutate the input, you will not be able to pass all the tests."
   ]
  },
  {
   "cell_type": "code",
   "execution_count": 51,
   "metadata": {},
   "outputs": [],
   "source": [
    "def score(dice):\n",
    "    a = dice.count(1)\n",
    "    b = dice.count(6)\n",
    "    c = dice.count(5)\n",
    "    d = dice.count(4)\n",
    "    e = dice.count(3)\n",
    "    f = dice.count(2)\n",
    "    if a >= 3:\n",
    "        return 1000 + (a-3)*100 + c*50\n",
    "    elif b >= 3:\n",
    "        return 600 + a*100 + c*50\n",
    "    elif c >= 3:\n",
    "        return 500 + a*100 + (c-3)*50\n",
    "    elif d >= 3:\n",
    "        return 400 + a*100 + c*50\n",
    "    elif e >= 3:\n",
    "        return 300 + a*100 + c*50\n",
    "    elif f >= 3:\n",
    "        return 200 + a*100 + c*50\n",
    "    else:\n",
    "        return a*100 + c*50"
   ]
  },
  {
   "cell_type": "markdown",
   "metadata": {},
   "source": [
    "https://www.codewars.com/kata/54da539698b8a2ad76000228\n",
    "\n",
    "You live in the city of Cartesia where all roads are laid out in a perfect grid. You arrived ten minutes too early to an appointment, so you decided to take the opportunity to go for a short walk. The city provides its citizens with a Walk Generating App on their phones -- everytime you press the button it sends you an array of one-letter strings representing directions to walk (eg. ['n', 's', 'w', 'e']). You always walk only a single block for each letter (direction) and you know it takes you one minute to traverse one city block, so create a function that will return true if the walk the app gives you will take you exactly ten minutes (you don't want to be early or late!) and will, of course, return you to your starting point. Return false otherwise.\n",
    "\n",
    "Note: you will always receive a valid array containing a random assortment of direction letters ('n', 's', 'e', or 'w' only). It will never give you an empty array (that's not a walk, that's standing still!)."
   ]
  },
  {
   "cell_type": "code",
   "execution_count": 52,
   "metadata": {},
   "outputs": [],
   "source": [
    "def is_valid_walk(walk):\n",
    "    w = walk.count(\"w\")\n",
    "    e = walk.count(\"e\")\n",
    "    s = walk.count(\"s\")\n",
    "    n = walk.count(\"n\")\n",
    "    if w + e + s + n == 10:\n",
    "        if w == e and n == s:\n",
    "            return True\n",
    "        else:\n",
    "            return False\n",
    "    else:\n",
    "        return False"
   ]
  },
  {
   "cell_type": "markdown",
   "metadata": {},
   "source": [
    "https://www.codewars.com/kata/589631d24a7323d18d00016f\n",
    "    \n",
    "    You're continuing to enjoy your new piano, as described in Piano Kata, Part 1. You're also continuing the exercise where you start on the very first (leftmost, lowest in pitch) key on the 88-key keyboard, which (as shown below) is the note A, with the little finger on your left hand, then the second key, which is the black key A# (\"A sharp\"), with your left ring finger, then the third key, B, with your left middle finger, then the fourth key, C, with your left index finger, and then the fifth key, C#, with your left thumb. Then you play the sixth key, D, with your right thumb, and continue on playing the seventh, eighth, ninth, and tenth keys with the other four fingers of your right hand. Then for the eleventh key you go back to your left little finger, and so on. Once you get to the rightmost/highest, 88th, key, C, you start all over again with your left little finger on the first key.\n",
    "\n",
    "\n",
    "\n",
    "(If the Codewars Instructions pane resizes the above piano keyboard image to be too small to read the note labels of the black/sharp keys on your screen, click here to open a copy of the image in a new tab or window.)\n",
    "\n",
    "This time, in addition to counting each key press out loud (not starting again at 1 after 88, but continuing on to 89 and so forth) to try to keep a steady rhythm going and to see how far you can get before messing up, you're also saying the name of each note. You wonder whether this may help you develop perfect pitch in addition to learning to just know which note is which, and -- as in Piano Kata, Part 1 -- helping you to learn to move smoothly and with uniform pressure on the keys from each finger to the next and back and forth between hands.\n",
    "\n",
    "The function you are going to write will explore one of the patterns you're experiencing in your practice: Given the number you stopped on, which note was it? For example, in the description of your piano exercise above, if you stopped at 5, your left thumb would be on the fifth key of the piano, which is C#. Or if you stopped at 92, you would have gone all the way from keys 1 to 88 and then wrapped around, so that you would be on the fourth key, which is C.\n",
    "\n",
    "Your function will receive an integer between 1 and 10000 (maybe you think that in principle it would be cool to count up to, say, a billion, but considering how many years it would take it is just not possible) and return one of the strings \"A\", \"A#\", \"B\", \"C\", \"C#\", \"D\", \"D#\", \"E\", \"F\", \"F#\", \"G\", or \"G#\" indicating which note you stopped on -- here are a few more examples:\n",
    "\n",
    "1     \"A\"\n",
    "12    \"G#\"\n",
    "42    \"D\"\n",
    "100   \"G#\"\n",
    "2017  \"F\""
   ]
  },
  {
   "cell_type": "code",
   "execution_count": 53,
   "metadata": {},
   "outputs": [],
   "source": [
    "def which_note(key_press_count):\n",
    "    n = [\"G#\",\"A\", \"A#\", \"B\", \"C\", \"C#\", \"D\", \"D#\", \"E\", \"F\", \"F#\", \"G\"]\n",
    "    if key_press_count % 88 == 0:\n",
    "        return \"C\"\n",
    "    else:\n",
    "        return n[(key_press_count % 88 % 12)]"
   ]
  },
  {
   "cell_type": "markdown",
   "metadata": {},
   "source": [
    "https://www.codewars.com/kata/545cedaa9943f7fe7b000048\n",
    "    \n",
    "    A pangram is a sentence that contains every single letter of the alphabet at least once. For example, the sentence \"The quick brown fox jumps over the lazy dog\" is a pangram, because it uses the letters A-Z at least once (case is irrelevant).\n",
    "\n",
    "Given a string, detect whether or not it is a pangram. Return True if it is, False if not. Ignore numbers and punctuation."
   ]
  },
  {
   "cell_type": "code",
   "execution_count": 54,
   "metadata": {},
   "outputs": [],
   "source": [
    "import string\n",
    "def is_pangram(s):\n",
    "    a = \"abcdefghijklmnopqrstuvwxyz\"\n",
    "    for i in a:\n",
    "        if i in s.lower():\n",
    "            continue\n",
    "        else:\n",
    "            return False\n",
    "    return True"
   ]
  },
  {
   "cell_type": "markdown",
   "metadata": {},
   "source": [
    "https://www.codewars.com/kata/526dbd6c8c0eb53254000110\n",
    "\n",
    "In this example you have to validate if a user input string is alphanumeric. The given string is not nil/null/NULL/None, so you don't have to check that.\n",
    "\n",
    "The string has the following conditions to be alphanumeric:\n",
    "\n",
    "At least one character (\"\" is not valid)\n",
    "Allowed characters are uppercase / lowercase latin letters and digits from 0 to 9\n",
    "No whitespaces / underscore"
   ]
  },
  {
   "cell_type": "code",
   "execution_count": 55,
   "metadata": {},
   "outputs": [],
   "source": [
    "def alphanumeric(password):\n",
    "    n = []\n",
    "    if password == \"\":\n",
    "        return False\n",
    "    for i in password:\n",
    "        if i.isdigit() or i.isalpha():\n",
    "            n.append(i)\n",
    "        else:\n",
    "            return False\n",
    "    if (\"\".join(n)) == password:\n",
    "        return True"
   ]
  },
  {
   "cell_type": "markdown",
   "metadata": {},
   "source": [
    "https://www.codewars.com/kata/5511b2f550906349a70004e1\n",
    "\n",
    "Define a function that takes in two non-negative integers aaa and bbb and returns the last decimal digit of aba^ba \n",
    "b\n",
    " . Note that aaa and bbb may be very large!\n",
    "\n",
    "For example, the last decimal digit of 979^79 \n",
    "7\n",
    "  is 999, since 97=47829699^7 = 47829699 \n",
    "7\n",
    " =4782969. The last decimal digit of (2200)2300({2^{200}})^{2^{300}}(2 \n",
    "200\n",
    " ) \n",
    "2 \n",
    "300\n",
    " \n",
    " , which has over 109210^{92}10 \n",
    "92\n",
    "  decimal digits, is 666. Also, please take 000^00 \n",
    "0\n",
    "  to be 111.\n",
    "\n",
    "You may assume that the input will always be valid."
   ]
  },
  {
   "cell_type": "code",
   "execution_count": 57,
   "metadata": {},
   "outputs": [],
   "source": [
    "def last_digit(n1, n2):\n",
    "    if n2 == 0:\n",
    "        return 1\n",
    "    elif int(str(n1)[-1]) == 1:\n",
    "        return 1\n",
    "    elif int(str(n1)[-1]) == 2:\n",
    "        if n2 % 4 == 1:\n",
    "            return 2\n",
    "        elif n2 % 4 == 2:\n",
    "            return 4\n",
    "        elif n2 % 4 == 3:\n",
    "            return 8\n",
    "        elif n2 % 4 == 0:\n",
    "            return 6\n",
    "    elif int(str(n1)[-1]) == 3:\n",
    "        if n2 % 4 == 1:\n",
    "            return 3\n",
    "        elif n2 % 4 == 2:\n",
    "            return 9\n",
    "        elif n2 % 4 == 3:\n",
    "            return 7\n",
    "        else:\n",
    "            return 1\n",
    "    elif int(str(n1)[-1]) == 4:\n",
    "        if n2 % 2 == 1:\n",
    "            return 4\n",
    "        else:\n",
    "            return 6\n",
    "    elif int(str(n1)[-1]) == 5:\n",
    "        return 5\n",
    "    elif int(str(n1)[-1]) == 6:\n",
    "        return 6\n",
    "    elif int(str(n1)[-1]) == 7:\n",
    "        if n2 % 4 == 1:\n",
    "            return 7\n",
    "        elif n2 % 4 == 2:\n",
    "            return 9\n",
    "        elif n2 % 4 == 3:\n",
    "            return 3\n",
    "        else:\n",
    "            return 1\n",
    "    elif int(str(n1)[-1]) == 8:\n",
    "        if n2 % 4 == 1:\n",
    "            return 8\n",
    "        elif n2 % 4 == 2:\n",
    "            return 4\n",
    "        elif n2 % 4 == 3:\n",
    "            return 2\n",
    "        else:\n",
    "            return 6\n",
    "    elif int(str(n1)[-1]) == 9:\n",
    "          if n2 % 2 == 1:\n",
    "              return 9\n",
    "          else:\n",
    "              return 1\n",
    "    elif int(str(n1)[-1]) == 0:\n",
    "        return 0"
   ]
  },
  {
   "cell_type": "markdown",
   "metadata": {},
   "source": [
    "https://www.codewars.com/kata/530e15517bc88ac656000716\n",
    "\n",
    "\n",
    "ROT13 is a simple letter substitution cipher that replaces a letter with the letter 13 letters after it in the alphabet. ROT13 is an example of the Caesar cipher.\n",
    "\n",
    "Create a function that takes a string and returns the string ciphered with Rot13. If there are numbers or special characters included in the string, they should be returned as they are. Only letters from the latin/english alphabet should be shifted, like in the original Rot13 \"implementation\"."
   ]
  },
  {
   "cell_type": "code",
   "execution_count": 58,
   "metadata": {},
   "outputs": [],
   "source": [
    "def rot13(message):\n",
    "    kn = list(\"abcdefghijklmnopqrstuvwxyz\")\n",
    "    k13 = list(\"nopqrstuvwxyzabcdefghijklm\")\n",
    "    bn = list(\"ABCDEFGHIJKLMNOPQRSTUVWXYZ\")\n",
    "    b13 = list(\"NOPQRSTUVWXYZABCDEFGHIJKLM\")\n",
    "    conc = []\n",
    "    for i in message:\n",
    "        if i.islower():\n",
    "            conc.append(k13[kn.index(i)])\n",
    "        elif i.isupper():\n",
    "            conc.append(b13[bn.index(i)])\n",
    "        else:\n",
    "            conc.append(i)\n",
    "    return \"\".join(conc)"
   ]
  },
  {
   "cell_type": "markdown",
   "metadata": {},
   "source": [
    "https://www.codewars.com/kata/555615a77ebc7c2c8a0000b8\n",
    "\n",
    "The new \"Avengers\" movie has just been released! There are a lot of people at the cinema box office standing in a huge line. Each of them has a single 100, 50 or 25 dollar bill. An \"Avengers\" ticket costs 25 dollars.\n",
    "\n",
    "Vasya is currently working as a clerk. He wants to sell a ticket to every single person in this line.\n",
    "\n",
    "Can Vasya sell a ticket to every person and give change if he initially has no money and sells the tickets strictly in the order people queue?\n",
    "\n",
    "Return YES, if Vasya can sell a ticket to every person and give change with the bills he has at hand at that moment. Otherwise return NO."
   ]
  },
  {
   "cell_type": "code",
   "execution_count": 59,
   "metadata": {},
   "outputs": [],
   "source": [
    "def tickets(people):\n",
    "    x = []\n",
    "    for i in people:\n",
    "        if i == 25:\n",
    "            x.append(25)\n",
    "        elif i == 50:\n",
    "            if 25 in x:\n",
    "                x.append(50)\n",
    "                x.remove(25)\n",
    "            else:\n",
    "                return \"NO\"\n",
    "        else:\n",
    "            if 25 in x and 50 in x:\n",
    "                x.remove(50)\n",
    "                x.remove(25)\n",
    "            elif x.count(25) > 2:\n",
    "                x.remove(25)\n",
    "                x.remove(25)\n",
    "                x.remove(25)\n",
    "            else: \n",
    "                return \"NO\" \n",
    "    return \"YES\""
   ]
  },
  {
   "cell_type": "markdown",
   "metadata": {},
   "source": [
    "https://www.codewars.com/kata/54c2fc0552791928c9000517\n",
    "\n",
    "Write this function\n",
    "\n",
    "\n",
    "for i from 1 to n, do i % m and return the sum\n",
    "\n",
    "f(n=10, m=5) // returns 20 (1+2+3+4+0 + 1+2+3+4+0)\n",
    "You'll need to get a little clever with performance, since n can be a very large number"
   ]
  },
  {
   "cell_type": "code",
   "execution_count": 60,
   "metadata": {},
   "outputs": [],
   "source": [
    "def f(n, m):\n",
    "    if n % m == 0:\n",
    "        return (n/m)*(((m-1) * m) / 2)\n",
    "    else:\n",
    "        return int(n/m)*(((m-1) * m) / 2) + ((n - int(n/m)*m) * ((n - int(n/m)*m)+1)) / 2\n",
    "    \n",
    "    #15 10:  1 2 3 4 5 6 7 8 9 10 11 12 13 14 15"
   ]
  },
  {
   "cell_type": "markdown",
   "metadata": {},
   "source": [
    "https://www.codewars.com/kata/54df2067ecaa226eca000229\n",
    "\n",
    "Due to another of his misbehaved, the primary school's teacher of the young Gauß, Herr J.G. Büttner, to keep the bored and unruly young schoolboy Karl Friedrich Gauss busy for a good long time, while he teaching arithmetic to his mates, assigned him the problem of adding up all the whole numbers from 1 through a given number n.\n",
    "\n",
    "Your task is to help the young Carl Friedrich to solve this problem as quickly as you can; so, he can astonish his teacher and rescue his recreation interval.\n",
    "\n",
    "Here's, an example:\n",
    "\n",
    "f(n=100) // returns 5050 \n",
    "It's your duty to verify that n is a valid positive integer number. If not, please, return false (None for Python, null for C#).\n",
    "\n",
    "Note: the goal of this kata is to invite you to think about some 'basic' mathematic formula and how you can do performance optimization on your code. \n",
    "\n",
    "Advanced - experienced users should try to solve it in one line, without loops, or optimizing the code as much as they can.\n",
    "\n"
   ]
  },
  {
   "cell_type": "code",
   "execution_count": 61,
   "metadata": {},
   "outputs": [],
   "source": [
    "def f(n):\n",
    "    if type(n) == int and n > 0:\n",
    "        return (n * (n + 1)) / 2\n",
    "    else:\n",
    "        return None"
   ]
  },
  {
   "cell_type": "markdown",
   "metadata": {},
   "source": [
    "https://www.codewars.com/kata/5287e858c6b5a9678200083c\n",
    "\n",
    "A Narcissistic Number is a positive number which is the sum of its own digits, each raised to the power of the number of digits in a given base. In this Kata, we will restrict ourselves to decimal (base 10).\n",
    "\n",
    "For example, take 153 (3 digits), which is narcisstic:\n",
    "\n",
    "    1^3 + 5^3 + 3^3 = 1 + 125 + 27 = 153\n",
    "and 1652 (4 digits), which isn't:\n",
    "\n",
    "    1^4 + 6^4 + 5^4 + 2^4 = 1 + 1296 + 625 + 16 = 1938\n",
    "The Challenge:\n",
    "\n",
    "Your code must return true or false depending upon whether the given number is a Narcissistic number in base 10.\n",
    "\n",
    "Error checking for text strings or other invalid inputs is not required, only valid positive non-zero integers will be passed into the function."
   ]
  },
  {
   "cell_type": "code",
   "execution_count": 62,
   "metadata": {},
   "outputs": [],
   "source": [
    "def narcissistic(value):\n",
    "    x = sum(int(i) ** len(str(value)) for i in str(value))\n",
    "    if x == value:\n",
    "        return True\n",
    "    else:\n",
    "        return False"
   ]
  },
  {
   "cell_type": "markdown",
   "metadata": {},
   "source": [
    "https://www.codewars.com/kata/52685f7382004e774f0001f7\n",
    "\n",
    "Write a function, which takes a non-negative integer (seconds) as input and returns the time in a human-readable format (HH:MM:SS)\n",
    "\n",
    "HH = hours, padded to 2 digits, range: 00 - 99\n",
    "MM = minutes, padded to 2 digits, range: 00 - 59\n",
    "SS = seconds, padded to 2 digits, range: 00 - 59\n",
    "The maximum time never exceeds 359999 (99:59:59)\n",
    "\n",
    "You can find some examples in the test fixtures."
   ]
  },
  {
   "cell_type": "code",
   "execution_count": 63,
   "metadata": {},
   "outputs": [],
   "source": [
    "def make_readable(seconds):\n",
    "    x = int(seconds / 3600)\n",
    "    y = int((seconds - x * 3600) / 60)\n",
    "    z = int((seconds - x * 3600) - y * 60)\n",
    "    if x < 10:\n",
    "        x = \"0\" + str(x)  \n",
    "    if y < 10:\n",
    "        y = \"0\" + str(y) \n",
    "    if z < 10:\n",
    "        z = \"0\" + str(z)    \n",
    "    return str(x) + \":\" + str(y) + \":\" + str(z)"
   ]
  },
  {
   "cell_type": "markdown",
   "metadata": {},
   "source": [
    "https://www.codewars.com/kata/54ff3102c1bad923760001f3\n",
    "\n",
    "\n",
    "Return the number (count) of vowels in the given string.\n",
    "\n",
    "We will consider a, e, i, o, u as vowels for this Kata (but not y).\n",
    "\n",
    "The input string will only consist of lower case letters and/or spaces."
   ]
  },
  {
   "cell_type": "markdown",
   "metadata": {},
   "source": [
    "https://www.codewars.com/kata/551dc350bf4e526099000ae5\n",
    "\n",
    "Polycarpus works as a DJ in the best Berland nightclub, and he often uses dubstep music in his performance. Recently, he has decided to take a couple of old songs and make dubstep remixes from them.\n",
    "\n",
    "Let's assume that a song consists of some number of words (that don't contain WUB). To make the dubstep remix of this song, Polycarpus inserts a certain number of words \"WUB\" before the first word of the song (the number may be zero), after the last word (the number may be zero), and between words (at least one between any pair of neighbouring words), and then the boy glues together all the words, including \"WUB\", in one string and plays the song at the club.\n",
    "\n",
    "For example, a song with words \"I AM X\" can transform into a dubstep remix as \"WUBWUBIWUBAMWUBWUBX\" and cannot transform into \"WUBWUBIAMWUBX\".\n",
    "\n",
    "Recently, Jonny has heard Polycarpus's new dubstep track, but since he isn't into modern music, he decided to find out what was the initial song that Polycarpus remixed. Help Jonny restore the original song.\n",
    "\n",
    "Input\n",
    "The input consists of a single non-empty string, consisting only of uppercase English letters, the string's length doesn't exceed 200 characters\n",
    "\n",
    "Output\n",
    "Return the words of the initial song that Polycarpus used to make a dubsteb remix. Separate the words with a space.\n",
    "\n",
    "Examples\n",
    "songDecoder(\"WUBWEWUBAREWUBWUBTHEWUBCHAMPIONSWUBMYWUBFRIENDWUB\")\n",
    "  // =>  WE ARE THE CHAMPIONS MY FRIEND"
   ]
  },
  {
   "cell_type": "code",
   "execution_count": 64,
   "metadata": {},
   "outputs": [],
   "source": [
    "def song_decoder(song):\n",
    "    song = song.replace(\"WUB\", \" \")\n",
    "    song = \" \".join(song.split())\n",
    "    return song"
   ]
  },
  {
   "cell_type": "markdown",
   "metadata": {},
   "source": [
    "There is an array with some numbers. All numbers are equal except for one. Try to find it!\n",
    "\n",
    "findUniq([ 1, 1, 1, 2, 1, 1 ]) === 2\n",
    "findUniq([ 0, 0, 0.55, 0, 0 ]) === 0.55\n",
    "It’s guaranteed that array contains at least 3 numbers.\n",
    "\n",
    "The tests contain some very huge arrays, so think about performance.\n",
    "\n",
    "https://www.codewars.com/kata/585d7d5adb20cf33cb000235"
   ]
  },
  {
   "cell_type": "code",
   "execution_count": 65,
   "metadata": {},
   "outputs": [],
   "source": [
    "def find_uniq(arr):\n",
    "    arr == arr.sort()\n",
    "    y = len(arr)\n",
    "    if arr[0] != arr[1]:\n",
    "        n = arr[0]\n",
    "    else:\n",
    "        n = arr[y - 1]\n",
    "    return n   # n: unique integer in the array"
   ]
  },
  {
   "cell_type": "markdown",
   "metadata": {},
   "source": [
    "https://www.codewars.com/kata/583f158ea20cfcbeb400000a\n",
    "\n",
    "Given two numbers and an arithmetic operator (the name of it, as a string), return the result of the two numbers having that operator used on them.\n",
    "\n",
    "a and b will both be positive integers, and a will always be the first number in the operation, and b always the second.\n",
    "\n",
    "The four operators are \"add\", \"subtract\", \"divide\", \"multiply\".\n",
    "\n"
   ]
  },
  {
   "cell_type": "code",
   "execution_count": 66,
   "metadata": {},
   "outputs": [],
   "source": [
    "def arithmetic(a, b, operator):\n",
    "    if operator == \"add\":\n",
    "        return a + b\n",
    "    elif operator == \"subtract\":\n",
    "        return a - b\n",
    "    elif operator == \"multiply\":\n",
    "        return a * b\n",
    "    else:\n",
    "        return a/b"
   ]
  },
  {
   "cell_type": "markdown",
   "metadata": {},
   "source": [
    "https://www.codewars.com/kata/57f36495c0bb25ecf50000e7\n",
    "    \n",
    "    Your task is to write function findSum.\n",
    "\n",
    "Upto and including n, this function will return the sum of all multiples of 3 and 5.\n",
    "\n",
    "For example:\n",
    "\n",
    "findSum(5) should return 8 (3 + 5)\n",
    "\n",
    "findSum(10) should return 33 (3 + 5 + 6 + 9 + 10)"
   ]
  },
  {
   "cell_type": "code",
   "execution_count": 67,
   "metadata": {},
   "outputs": [],
   "source": [
    "def find(n):\n",
    "    return sum(i for i in range(0,n+1) if i % 3 == 0 or i % 5 == 0)"
   ]
  },
  {
   "cell_type": "markdown",
   "metadata": {},
   "source": [
    "https://www.codewars.com/kata/587731fda577b3d1b0001196\n",
    "\n",
    "Write simple .camelCase method (camel_case function in PHP, CamelCase in C# or camelCase in Java) for strings. All words must have their first letter capitalized without spaces.\n",
    "\n",
    "For instance:\n",
    "\n",
    "\"hello case\".camelCase() => HelloCase\n",
    "\"camel case word\".camelCase() => CamelCaseWord\n",
    "Don't forget to rate this kata! Thanks :)"
   ]
  },
  {
   "cell_type": "code",
   "execution_count": 68,
   "metadata": {},
   "outputs": [],
   "source": [
    "def camel_case(string):\n",
    "    return string.title().replace(\" \", \"\")"
   ]
  },
  {
   "cell_type": "markdown",
   "metadata": {},
   "source": [
    "https://www.codewars.com/kata/5556282156230d0e5e000089\n",
    "\n",
    "Deoxyribonucleic acid, DNA is the primary information storage molecule in biological systems. It is composed of four nucleic acid bases Guanine ('G'), Cytosine ('C'), Adenine ('A'), and Thymine ('T').\n",
    "\n",
    "Ribonucleic acid, RNA, is the primary messenger molecule in cells. RNA differs slightly from DNA its chemical structure and contains no Thymine. In RNA Thymine is replaced by another nucleic acid Uracil ('U').\n",
    "\n",
    "Create a function which translates a given DNA string into RNA."
   ]
  },
  {
   "cell_type": "code",
   "execution_count": 69,
   "metadata": {},
   "outputs": [],
   "source": [
    "def dna_to_rna(dna):\n",
    "    return dna.replace(\"T\",\"U\")\n",
    "    "
   ]
  },
  {
   "cell_type": "markdown",
   "metadata": {},
   "source": [
    "https://www.codewars.com/kata/55685cd7ad70877c23000102\n",
    "\n",
    "In this simple assignment you are given a number and have to make it negative. But maybe the number is already negative?"
   ]
  },
  {
   "cell_type": "code",
   "execution_count": 70,
   "metadata": {},
   "outputs": [],
   "source": [
    "def make_negative( number ):\n",
    "    if number > 0:\n",
    "        return number - 2 * number\n",
    "    else: \n",
    "        return number"
   ]
  },
  {
   "cell_type": "code",
   "execution_count": null,
   "metadata": {},
   "outputs": [],
   "source": []
  }
 ],
 "metadata": {
  "kernelspec": {
   "display_name": "Python 3",
   "language": "python",
   "name": "python3"
  },
  "language_info": {
   "codemirror_mode": {
    "name": "ipython",
    "version": 3
   },
   "file_extension": ".py",
   "mimetype": "text/x-python",
   "name": "python",
   "nbconvert_exporter": "python",
   "pygments_lexer": "ipython3",
   "version": "3.7.6"
  }
 },
 "nbformat": 4,
 "nbformat_minor": 4
}
